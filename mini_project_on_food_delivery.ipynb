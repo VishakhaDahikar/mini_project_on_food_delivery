{
 "cells": [
  {
   "cell_type": "code",
   "execution_count": 1,
   "id": "954aa2ec",
   "metadata": {},
   "outputs": [],
   "source": [
    "import pandas as pd\n",
    "import numpy as np\n",
    "import seaborn as sns\n",
    "import matplotlib.pyplot as plt"
   ]
  },
  {
   "cell_type": "code",
   "execution_count": 2,
   "id": "7afab009",
   "metadata": {},
   "outputs": [],
   "source": [
    "data=pd.read_csv('C:/Users/admin/Downloads/SQL and power BI mini project for online food.csv')"
   ]
  },
  {
   "cell_type": "code",
   "execution_count": 3,
   "id": "ab40a220",
   "metadata": {},
   "outputs": [
    {
     "data": {
      "text/html": [
       "<div>\n",
       "<style scoped>\n",
       "    .dataframe tbody tr th:only-of-type {\n",
       "        vertical-align: middle;\n",
       "    }\n",
       "\n",
       "    .dataframe tbody tr th {\n",
       "        vertical-align: top;\n",
       "    }\n",
       "\n",
       "    .dataframe thead th {\n",
       "        text-align: right;\n",
       "    }\n",
       "</style>\n",
       "<table border=\"1\" class=\"dataframe\">\n",
       "  <thead>\n",
       "    <tr style=\"text-align: right;\">\n",
       "      <th></th>\n",
       "      <th>Age</th>\n",
       "      <th>Gender</th>\n",
       "      <th>Marital_Status</th>\n",
       "      <th>Occupation</th>\n",
       "      <th>Monthly_Income</th>\n",
       "      <th>Educational_Qualifications</th>\n",
       "      <th>Family_size</th>\n",
       "      <th>Pin_code</th>\n",
       "      <th>Output</th>\n",
       "      <th>Feedback</th>\n",
       "    </tr>\n",
       "  </thead>\n",
       "  <tbody>\n",
       "    <tr>\n",
       "      <th>0</th>\n",
       "      <td>20</td>\n",
       "      <td>Female</td>\n",
       "      <td>Single</td>\n",
       "      <td>Student</td>\n",
       "      <td>No Income</td>\n",
       "      <td>Post Graduate</td>\n",
       "      <td>4</td>\n",
       "      <td>560001</td>\n",
       "      <td>Yes</td>\n",
       "      <td>Positive</td>\n",
       "    </tr>\n",
       "    <tr>\n",
       "      <th>1</th>\n",
       "      <td>24</td>\n",
       "      <td>Female</td>\n",
       "      <td>Single</td>\n",
       "      <td>Student</td>\n",
       "      <td>Below Rs.10000</td>\n",
       "      <td>Graduate</td>\n",
       "      <td>3</td>\n",
       "      <td>560009</td>\n",
       "      <td>Yes</td>\n",
       "      <td>Positive</td>\n",
       "    </tr>\n",
       "    <tr>\n",
       "      <th>2</th>\n",
       "      <td>22</td>\n",
       "      <td>Male</td>\n",
       "      <td>Single</td>\n",
       "      <td>Student</td>\n",
       "      <td>Below Rs.10000</td>\n",
       "      <td>Post Graduate</td>\n",
       "      <td>3</td>\n",
       "      <td>560017</td>\n",
       "      <td>Yes</td>\n",
       "      <td>Negative</td>\n",
       "    </tr>\n",
       "    <tr>\n",
       "      <th>3</th>\n",
       "      <td>22</td>\n",
       "      <td>Female</td>\n",
       "      <td>Single</td>\n",
       "      <td>Student</td>\n",
       "      <td>No Income</td>\n",
       "      <td>Graduate</td>\n",
       "      <td>6</td>\n",
       "      <td>560019</td>\n",
       "      <td>Yes</td>\n",
       "      <td>Positive</td>\n",
       "    </tr>\n",
       "    <tr>\n",
       "      <th>4</th>\n",
       "      <td>22</td>\n",
       "      <td>Male</td>\n",
       "      <td>Single</td>\n",
       "      <td>Student</td>\n",
       "      <td>Below Rs.10000</td>\n",
       "      <td>Post Graduate</td>\n",
       "      <td>4</td>\n",
       "      <td>560010</td>\n",
       "      <td>Yes</td>\n",
       "      <td>Positive</td>\n",
       "    </tr>\n",
       "    <tr>\n",
       "      <th>...</th>\n",
       "      <td>...</td>\n",
       "      <td>...</td>\n",
       "      <td>...</td>\n",
       "      <td>...</td>\n",
       "      <td>...</td>\n",
       "      <td>...</td>\n",
       "      <td>...</td>\n",
       "      <td>...</td>\n",
       "      <td>...</td>\n",
       "      <td>...</td>\n",
       "    </tr>\n",
       "    <tr>\n",
       "      <th>383</th>\n",
       "      <td>23</td>\n",
       "      <td>Female</td>\n",
       "      <td>Single</td>\n",
       "      <td>Student</td>\n",
       "      <td>No Income</td>\n",
       "      <td>Post Graduate</td>\n",
       "      <td>2</td>\n",
       "      <td>560001</td>\n",
       "      <td>Yes</td>\n",
       "      <td>Positive</td>\n",
       "    </tr>\n",
       "    <tr>\n",
       "      <th>384</th>\n",
       "      <td>23</td>\n",
       "      <td>Female</td>\n",
       "      <td>Single</td>\n",
       "      <td>Student</td>\n",
       "      <td>No Income</td>\n",
       "      <td>Post Graduate</td>\n",
       "      <td>4</td>\n",
       "      <td>560048</td>\n",
       "      <td>Yes</td>\n",
       "      <td>Positive</td>\n",
       "    </tr>\n",
       "    <tr>\n",
       "      <th>385</th>\n",
       "      <td>22</td>\n",
       "      <td>Female</td>\n",
       "      <td>Single</td>\n",
       "      <td>Student</td>\n",
       "      <td>No Income</td>\n",
       "      <td>Post Graduate</td>\n",
       "      <td>5</td>\n",
       "      <td>560010</td>\n",
       "      <td>Yes</td>\n",
       "      <td>Positive</td>\n",
       "    </tr>\n",
       "    <tr>\n",
       "      <th>386</th>\n",
       "      <td>23</td>\n",
       "      <td>Male</td>\n",
       "      <td>Single</td>\n",
       "      <td>Student</td>\n",
       "      <td>Below Rs.10000</td>\n",
       "      <td>Post Graduate</td>\n",
       "      <td>2</td>\n",
       "      <td>560009</td>\n",
       "      <td>Yes</td>\n",
       "      <td>Positive</td>\n",
       "    </tr>\n",
       "    <tr>\n",
       "      <th>387</th>\n",
       "      <td>23</td>\n",
       "      <td>Male</td>\n",
       "      <td>Single</td>\n",
       "      <td>Student</td>\n",
       "      <td>No Income</td>\n",
       "      <td>Post Graduate</td>\n",
       "      <td>5</td>\n",
       "      <td>560078</td>\n",
       "      <td>Yes</td>\n",
       "      <td>Positive</td>\n",
       "    </tr>\n",
       "  </tbody>\n",
       "</table>\n",
       "<p>388 rows × 10 columns</p>\n",
       "</div>"
      ],
      "text/plain": [
       "     Age  Gender Marital_Status Occupation  Monthly_Income  \\\n",
       "0     20  Female         Single    Student       No Income   \n",
       "1     24  Female         Single    Student  Below Rs.10000   \n",
       "2     22    Male         Single    Student  Below Rs.10000   \n",
       "3     22  Female         Single    Student       No Income   \n",
       "4     22    Male         Single    Student  Below Rs.10000   \n",
       "..   ...     ...            ...        ...             ...   \n",
       "383   23  Female         Single    Student       No Income   \n",
       "384   23  Female         Single    Student       No Income   \n",
       "385   22  Female         Single    Student       No Income   \n",
       "386   23    Male         Single    Student  Below Rs.10000   \n",
       "387   23    Male         Single    Student       No Income   \n",
       "\n",
       "    Educational_Qualifications  Family_size  Pin_code Output   Feedback  \n",
       "0                Post Graduate            4    560001    Yes   Positive  \n",
       "1                     Graduate            3    560009    Yes   Positive  \n",
       "2                Post Graduate            3    560017    Yes  Negative   \n",
       "3                     Graduate            6    560019    Yes   Positive  \n",
       "4                Post Graduate            4    560010    Yes   Positive  \n",
       "..                         ...          ...       ...    ...        ...  \n",
       "383              Post Graduate            2    560001    Yes   Positive  \n",
       "384              Post Graduate            4    560048    Yes   Positive  \n",
       "385              Post Graduate            5    560010    Yes   Positive  \n",
       "386              Post Graduate            2    560009    Yes   Positive  \n",
       "387              Post Graduate            5    560078    Yes   Positive  \n",
       "\n",
       "[388 rows x 10 columns]"
      ]
     },
     "execution_count": 3,
     "metadata": {},
     "output_type": "execute_result"
    }
   ],
   "source": [
    "data"
   ]
  },
  {
   "cell_type": "code",
   "execution_count": null,
   "id": "16c8a087",
   "metadata": {},
   "outputs": [],
   "source": []
  },
  {
   "cell_type": "code",
   "execution_count": 4,
   "id": "c38bd283",
   "metadata": {},
   "outputs": [
    {
     "name": "stdout",
     "output_type": "stream",
     "text": [
      "<class 'pandas.core.frame.DataFrame'>\n",
      "RangeIndex: 388 entries, 0 to 387\n",
      "Data columns (total 10 columns):\n",
      " #   Column                      Non-Null Count  Dtype \n",
      "---  ------                      --------------  ----- \n",
      " 0   Age                         388 non-null    int64 \n",
      " 1   Gender                      388 non-null    object\n",
      " 2   Marital_Status              388 non-null    object\n",
      " 3   Occupation                  388 non-null    object\n",
      " 4   Monthly_Income              388 non-null    object\n",
      " 5   Educational_Qualifications  388 non-null    object\n",
      " 6   Family_size                 388 non-null    int64 \n",
      " 7   Pin_code                    388 non-null    int64 \n",
      " 8   Output                      388 non-null    object\n",
      " 9   Feedback                    388 non-null    object\n",
      "dtypes: int64(3), object(7)\n",
      "memory usage: 30.4+ KB\n"
     ]
    }
   ],
   "source": [
    "data.info()"
   ]
  },
  {
   "cell_type": "code",
   "execution_count": 5,
   "id": "f57c0861",
   "metadata": {},
   "outputs": [
    {
     "data": {
      "text/plain": [
       "array([20, 24, 22, 27, 23, 21, 28, 25, 32, 30, 31, 26, 18, 19, 33, 29],\n",
       "      dtype=int64)"
      ]
     },
     "execution_count": 5,
     "metadata": {},
     "output_type": "execute_result"
    }
   ],
   "source": [
    "data['Age'].unique()"
   ]
  },
  {
   "cell_type": "markdown",
   "id": "063066f0",
   "metadata": {},
   "source": [
    "Q1\tOnline food order decision based on customer Age"
   ]
  },
  {
   "cell_type": "code",
   "execution_count": 6,
   "id": "7c8be318",
   "metadata": {},
   "outputs": [],
   "source": [
    "data['Age_group'] = data['Age'].apply(lambda x: 'child' if x <= 20 else ('younger' if x > 20 and x < 30 else 'adult'))\n"
   ]
  },
  {
   "cell_type": "code",
   "execution_count": 7,
   "id": "1106583c",
   "metadata": {},
   "outputs": [
    {
     "data": {
      "text/plain": [
       "0        child\n",
       "1      younger\n",
       "2      younger\n",
       "3      younger\n",
       "4      younger\n",
       "        ...   \n",
       "383    younger\n",
       "384    younger\n",
       "385    younger\n",
       "386    younger\n",
       "387    younger\n",
       "Name: Age_group, Length: 388, dtype: object"
      ]
     },
     "execution_count": 7,
     "metadata": {},
     "output_type": "execute_result"
    }
   ],
   "source": [
    "data['Age_group']"
   ]
  },
  {
   "cell_type": "code",
   "execution_count": 8,
   "id": "6730b9c0",
   "metadata": {},
   "outputs": [],
   "source": [
    "value_count_age=data['Age_group'].value_counts()"
   ]
  },
  {
   "cell_type": "code",
   "execution_count": 9,
   "id": "bef3791d",
   "metadata": {},
   "outputs": [
    {
     "data": {
      "text/plain": [
       "<AxesSubplot:>"
      ]
     },
     "execution_count": 9,
     "metadata": {},
     "output_type": "execute_result"
    },
    {
     "data": {
      "image/png": "[encoded data removed]",
      "text/plain": [
       "<Figure size 1000x600 with 1 Axes>"
      ]
     },
     "metadata": {},
     "output_type": "display_data"
    }
   ],
   "source": [
    "plt.figure(figsize=(10,6))\n",
    "value_count_age.plot(kind='bar')"
   ]
  },
  {
   "cell_type": "markdown",
   "id": "1ccfbf94",
   "metadata": {},
   "source": [
    "Q2\tOnline food order decision based on size of the family"
   ]
  },
  {
   "cell_type": "code",
   "execution_count": 10,
   "id": "6fb3044c",
   "metadata": {},
   "outputs": [
    {
     "data": {
      "text/plain": [
       "array([4, 3, 6, 2, 5, 1], dtype=int64)"
      ]
     },
     "execution_count": 10,
     "metadata": {},
     "output_type": "execute_result"
    }
   ],
   "source": [
    "data['Family_size'].unique()"
   ]
  },
  {
   "cell_type": "code",
   "execution_count": 11,
   "id": "25138bc0",
   "metadata": {},
   "outputs": [],
   "source": [
    "data['size_destributions']=data['Family_size'].apply(lambda x: 'single' if x ==1  \n",
    "                                              else ('couple' if x==2 else('nuclear_family' if x >2 and x <=4 else 'join_family')))"
   ]
  },
  {
   "cell_type": "code",
   "execution_count": 12,
   "id": "dea2a816",
   "metadata": {},
   "outputs": [],
   "source": [
    "group_size_destributions=data['size_destributions'].value_counts()"
   ]
  },
  {
   "cell_type": "code",
   "execution_count": 13,
   "id": "4ffc8394",
   "metadata": {},
   "outputs": [
    {
     "data": {
      "text/plain": [
       "<AxesSubplot:>"
      ]
     },
     "execution_count": 13,
     "metadata": {},
     "output_type": "execute_result"
    },
    {
     "data": {
      "image/png": "[encoded data removed]",
      "text/plain": [
       "<Figure size 1000x600 with 1 Axes>"
      ]
     },
     "metadata": {},
     "output_type": "display_data"
    }
   ],
   "source": [
    "plt.figure(figsize=(10,6))\n",
    "group_size_destributions.plot(kind='bar',color='red')"
   ]
  },
  {
   "cell_type": "markdown",
   "id": "ea7e72f9",
   "metadata": {},
   "source": [
    "Q3\tWho orders more Male or Female??"
   ]
  },
  {
   "cell_type": "code",
   "execution_count": 22,
   "id": "f42a6e36",
   "metadata": {},
   "outputs": [],
   "source": [
    "gender_wise_group=data.groupby(data['Gender']).sum()"
   ]
  },
  {
   "cell_type": "code",
   "execution_count": 25,
   "id": "84f30732",
   "metadata": {},
   "outputs": [],
   "source": [
    "value_count_gender=data['Gender'].value_counts()"
   ]
  },
  {
   "cell_type": "code",
   "execution_count": 26,
   "id": "335502b3",
   "metadata": {},
   "outputs": [
    {
     "data": {
      "text/plain": [
       "Male      222\n",
       "Female    166\n",
       "Name: Gender, dtype: int64"
      ]
     },
     "execution_count": 26,
     "metadata": {},
     "output_type": "execute_result"
    }
   ],
   "source": [
    "value_count_gender"
   ]
  },
  {
   "cell_type": "code",
   "execution_count": 27,
   "id": "f2df9433",
   "metadata": {},
   "outputs": [
    {
     "data": {
      "text/plain": [
       "<AxesSubplot:>"
      ]
     },
     "execution_count": 27,
     "metadata": {},
     "output_type": "execute_result"
    },
    {
     "data": {
      "image/png": "[encoded data removed]",
      "text/plain": [
       "<Figure size 1000x600 with 1 Axes>"
      ]
     },
     "metadata": {},
     "output_type": "display_data"
    }
   ],
   "source": [
    "plt.figure(figsize=(10,6))\n",
    "value_count_gender.plot(kind='bar',color='green')"
   ]
  },
  {
   "cell_type": "markdown",
   "id": "6ff613c1",
   "metadata": {},
   "source": [
    "Q4\tWho orders more Married or unmarried??"
   ]
  },
  {
   "cell_type": "code",
   "execution_count": 14,
   "id": "d16b7be7",
   "metadata": {},
   "outputs": [
    {
     "data": {
      "text/plain": [
       "Index(['Age', 'Gender', 'Marital_Status', 'Occupation', 'Monthly_Income',\n",
       "       'Educational_Qualifications', 'Family_size', 'Pin_code', 'Output',\n",
       "       'Feedback', 'Age_group', 'size_destributions'],\n",
       "      dtype='object')"
      ]
     },
     "execution_count": 14,
     "metadata": {},
     "output_type": "execute_result"
    }
   ],
   "source": [
    "data.columns"
   ]
  },
  {
   "cell_type": "code",
   "execution_count": 15,
   "id": "2e6402e4",
   "metadata": {},
   "outputs": [],
   "source": [
    "values_count_marital=data['Marital_Status'].value_counts()"
   ]
  },
  {
   "cell_type": "code",
   "execution_count": 16,
   "id": "f4742912",
   "metadata": {},
   "outputs": [
    {
     "data": {
      "text/plain": [
       "<AxesSubplot:>"
      ]
     },
     "execution_count": 16,
     "metadata": {},
     "output_type": "execute_result"
    },
    {
     "data": {
      "image/png": "[encoded data removed]",
      "text/plain": [
       "<Figure size 640x480 with 1 Axes>"
      ]
     },
     "metadata": {},
     "output_type": "display_data"
    }
   ],
   "source": [
    "values_count_marital.plot(kind='bar',color='gray')"
   ]
  },
  {
   "cell_type": "markdown",
   "id": "cda262b6",
   "metadata": {},
   "source": [
    "Q5\tAnalyze food ordering behaviour across income level"
   ]
  },
  {
   "cell_type": "code",
   "execution_count": 17,
   "id": "bf3e7bd1",
   "metadata": {},
   "outputs": [
    {
     "data": {
      "text/plain": [
       "Index(['Age', 'Gender', 'Marital_Status', 'Occupation', 'Monthly_Income',\n",
       "       'Educational_Qualifications', 'Family_size', 'Pin_code', 'Output',\n",
       "       'Feedback', 'Age_group', 'size_destributions'],\n",
       "      dtype='object')"
      ]
     },
     "execution_count": 17,
     "metadata": {},
     "output_type": "execute_result"
    }
   ],
   "source": [
    "data.columns"
   ]
  },
  {
   "cell_type": "code",
   "execution_count": 18,
   "id": "1e1c6576",
   "metadata": {},
   "outputs": [
    {
     "data": {
      "text/plain": [
       "0           No Income\n",
       "1      Below Rs.10000\n",
       "2      Below Rs.10000\n",
       "3           No Income\n",
       "4      Below Rs.10000\n",
       "            ...      \n",
       "383         No Income\n",
       "384         No Income\n",
       "385         No Income\n",
       "386    Below Rs.10000\n",
       "387         No Income\n",
       "Name: Monthly_Income, Length: 388, dtype: object"
      ]
     },
     "execution_count": 18,
     "metadata": {},
     "output_type": "execute_result"
    }
   ],
   "source": [
    "data['Monthly_Income']"
   ]
  },
  {
   "cell_type": "code",
   "execution_count": 19,
   "id": "9870d5c7",
   "metadata": {},
   "outputs": [],
   "source": [
    "values_as_income=data['Monthly_Income'].value_counts()"
   ]
  },
  {
   "cell_type": "code",
   "execution_count": 20,
   "id": "58e2ecc9",
   "metadata": {},
   "outputs": [
    {
     "data": {
      "text/plain": [
       "<AxesSubplot:>"
      ]
     },
     "execution_count": 20,
     "metadata": {},
     "output_type": "execute_result"
    },
    {
     "data": {
      "image/png": "[encoded data removed]",
      "text/plain": [
       "<Figure size 640x480 with 1 Axes>"
      ]
     },
     "metadata": {},
     "output_type": "display_data"
    }
   ],
   "source": [
    "values_as_income.plot(kind='bar')"
   ]
  },
  {
   "cell_type": "markdown",
   "id": "1bda09c7",
   "metadata": {},
   "source": [
    "Q6\tFood ordering pattern based on qualification"
   ]
  },
  {
   "cell_type": "code",
   "execution_count": 21,
   "id": "3593451f",
   "metadata": {},
   "outputs": [
    {
     "data": {
      "text/plain": [
       "0      Post Graduate\n",
       "1           Graduate\n",
       "2      Post Graduate\n",
       "3           Graduate\n",
       "4      Post Graduate\n",
       "           ...      \n",
       "383    Post Graduate\n",
       "384    Post Graduate\n",
       "385    Post Graduate\n",
       "386    Post Graduate\n",
       "387    Post Graduate\n",
       "Name: Educational_Qualifications, Length: 388, dtype: object"
      ]
     },
     "execution_count": 21,
     "metadata": {},
     "output_type": "execute_result"
    }
   ],
   "source": [
    "data['Educational_Qualifications']"
   ]
  },
  {
   "cell_type": "code",
   "execution_count": 22,
   "id": "6fb07da6",
   "metadata": {},
   "outputs": [],
   "source": [
    "qualification_values=data['Educational_Qualifications'].value_counts()"
   ]
  },
  {
   "cell_type": "code",
   "execution_count": 23,
   "id": "ae1fb25e",
   "metadata": {},
   "outputs": [
    {
     "data": {
      "text/plain": [
       "<AxesSubplot:>"
      ]
     },
     "execution_count": 23,
     "metadata": {},
     "output_type": "execute_result"
    },
    {
     "data": {
      "image/png": "[encoded data removed]",
      "text/plain": [
       "<Figure size 640x480 with 1 Axes>"
      ]
     },
     "metadata": {},
     "output_type": "display_data"
    }
   ],
   "source": [
    "qualification_values.plot(kind='bar')"
   ]
  },
  {
   "cell_type": "markdown",
   "id": "9281a571",
   "metadata": {},
   "source": [
    "Q7\tFood ordering pattern based on occupation"
   ]
  },
  {
   "cell_type": "code",
   "execution_count": 24,
   "id": "73afbab0",
   "metadata": {},
   "outputs": [
    {
     "data": {
      "text/plain": [
       "0      Student\n",
       "1      Student\n",
       "2      Student\n",
       "3      Student\n",
       "4      Student\n",
       "        ...   \n",
       "383    Student\n",
       "384    Student\n",
       "385    Student\n",
       "386    Student\n",
       "387    Student\n",
       "Name: Occupation, Length: 388, dtype: object"
      ]
     },
     "execution_count": 24,
     "metadata": {},
     "output_type": "execute_result"
    }
   ],
   "source": [
    "data['Occupation']"
   ]
  },
  {
   "cell_type": "code",
   "execution_count": 25,
   "id": "87a08719",
   "metadata": {},
   "outputs": [],
   "source": [
    "occupation_values=data['Occupation'].value_counts()"
   ]
  },
  {
   "cell_type": "code",
   "execution_count": 26,
   "id": "c7793d73",
   "metadata": {},
   "outputs": [
    {
     "data": {
      "text/plain": [
       "<AxesSubplot:>"
      ]
     },
     "execution_count": 26,
     "metadata": {},
     "output_type": "execute_result"
    },
    {
     "data": {
      "image/png": "[encoded data removed]",
      "text/plain": [
       "<Figure size 640x480 with 1 Axes>"
      ]
     },
     "metadata": {},
     "output_type": "display_data"
    }
   ],
   "source": [
    "occupation_values.plot(kind='bar')"
   ]
  },
  {
   "cell_type": "markdown",
   "id": "23a54487",
   "metadata": {},
   "source": [
    "Q8\tCheck the feedback"
   ]
  },
  {
   "cell_type": "code",
   "execution_count": 27,
   "id": "c2b26afc",
   "metadata": {},
   "outputs": [
    {
     "data": {
      "text/plain": [
       "Index(['Age', 'Gender', 'Marital_Status', 'Occupation', 'Monthly_Income',\n",
       "       'Educational_Qualifications', 'Family_size', 'Pin_code', 'Output',\n",
       "       'Feedback', 'Age_group', 'size_destributions'],\n",
       "      dtype='object')"
      ]
     },
     "execution_count": 27,
     "metadata": {},
     "output_type": "execute_result"
    }
   ],
   "source": [
    "data.columns"
   ]
  },
  {
   "cell_type": "code",
   "execution_count": 30,
   "id": "72031f77",
   "metadata": {},
   "outputs": [
    {
     "data": {
      "text/plain": [
       "<AxesSubplot:>"
      ]
     },
     "execution_count": 30,
     "metadata": {},
     "output_type": "execute_result"
    },
    {
     "data": {
      "image/png": "[encoded data removed]",
      "text/plain": [
       "<Figure size 640x480 with 1 Axes>"
      ]
     },
     "metadata": {},
     "output_type": "display_data"
    }
   ],
   "source": [
    "data['Feedback'].value_counts().plot(kind='bar')"
   ]
  },
  {
   "cell_type": "code",
   "execution_count": null,
   "id": "49f9e430",
   "metadata": {},
   "outputs": [],
   "source": []
  }
 ],
 "metadata": {
  "kernelspec": {
   "display_name": "Python 3 (ipykernel)",
   "language": "python",
   "name": "python3"
  },
  "language_info": {
   "codemirror_mode": {
    "name": "ipython",
    "version": 3
   },
   "file_extension": ".py",
   "mimetype": "text/x-python",
   "name": "python",
   "nbconvert_exporter": "python",
   "pygments_lexer": "ipython3",
   "version": "3.8.8"
  }
 },
 "nbformat": 4,
 "nbformat_minor": 5
}
